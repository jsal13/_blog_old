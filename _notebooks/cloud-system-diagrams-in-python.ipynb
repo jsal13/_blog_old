{
 "cells": [
  {
   "cell_type": "raw",
   "metadata": {},
   "source": [
    "---\n",
    "title:  \"Making Cloud System Diagrams in Python\"\n",
    "date:   2022-03-05\n",
    "\n",
    "description: Using `diagrams` to make cloud system diagrams.\n",
    "categories: python cloud architecture\n",
    "\n",
    "excerpt: \"I recently learned about [diagrams](https://diagrams.mingrammer.com/) which allows the user to draw cloud system architecture diagrams using python code.  Pretty neat!  Let's see how it works.\"\n",
    "\n",
    "classes: wide\n",
    "\n",
    "header:\n",
    "  overlay_filter: rgba(0, 146, 202, 0.8)\n",
    "  overlay_image: /images/arch_diagrams/2_tilted.png\n",
    "---"
   ]
  },
  {
   "cell_type": "markdown",
   "metadata": {},
   "source": [
    "## Introduction\n",
    "\n",
    "I recently learned about [diagrams](https://diagrams.mingrammer.com/) which allows the user to draw cloud system architecture diagrams using python code.  Pretty neat!  Let's see how it works.\n",
    "\n",
    "Let's import all the stuff we'll need, then do a little example."
   ]
  },
  {
   "cell_type": "code",
   "execution_count": 1,
   "metadata": {},
   "outputs": [],
   "source": [
    "from diagrams import Diagram, Edge, Cluster\n",
    "from diagrams.aws.compute import EC2\n",
    "from diagrams.aws.database import RDS, Redshift\n",
    "from diagrams.aws.network import ELB"
   ]
  },
  {
   "cell_type": "code",
   "execution_count": 2,
   "metadata": {},
   "outputs": [],
   "source": [
    "# Create the diagram via the following context:\n",
    "filename_1 = \"../images/arch_diagrams/1\"\n",
    "with Diagram(\"Name_of_Service\", show=False, filename=filename_1):\n",
    "    elb_1 = ELB(\"The Label\") \n",
    "    ec2_1 = EC2(\"Another Label\")\n",
    "    rds_1 = RDS(\"User Label\")\n",
    "\n",
    "    elb_1 >> ec2_1\n",
    "    ec2_1 >> rds_1"
   ]
  },
  {
   "cell_type": "markdown",
   "metadata": {},
   "source": [
    "![](../images/arch_diagrams/1.png)"
   ]
  },
  {
   "cell_type": "markdown",
   "metadata": {},
   "source": [
    "Note that you don't _have_ to make these variables.  You can do the same thing with \n",
    "\n",
    "```python\n",
    "    ELB(\"The Label\") >> EC2(\"Another Label\") >> RDS(\"User Label\")\n",
    "```\n",
    "\n",
    "but I prefer to break it up a bit.  We can also group a number of these together using lists..."
   ]
  },
  {
   "cell_type": "code",
   "execution_count": 3,
   "metadata": {},
   "outputs": [],
   "source": [
    "filename_2 = \"../images/arch_diagrams/2\"\n",
    "with Diagram(\"Grouped_Stuff\", show=False, filename=filename_2):\n",
    "    # All of the things we'll use.\n",
    "    # Notice we are making a list for the EC2 instances.\n",
    "    elb_1 = ELB(\"lb1\")\n",
    "    ec2_list = [EC2(f\"worker_{i}\") for i in range(5)]\n",
    "    rds_1 = RDS(\"Things\")\n",
    "\n",
    "    # Configure the layout...\n",
    "    elb_1 >> ec2_list >> rds_1\n"
   ]
  },
  {
   "cell_type": "markdown",
   "metadata": {},
   "source": [
    "![](../images/arch_diagrams/2.png)"
   ]
  },
  {
   "cell_type": "markdown",
   "metadata": {},
   "source": [
    "Notice this is a bit...tall.  Maybe we'd prefer to have it rotated.  We can do this with the `direction` parameter, like so:"
   ]
  },
  {
   "cell_type": "code",
   "execution_count": 4,
   "metadata": {},
   "outputs": [],
   "source": [
    "filename_3 = \"../images/arch_diagrams/2_tilted\"\n",
    "with Diagram(\n",
    "    \"Grouped_Stuff\", \n",
    "    show=False, \n",
    "    filename=filename_3,\n",
    "    direction=\"TB\"\n",
    "):\n",
    "    # All of the things we'll use.\n",
    "    # Notice we are making a list for the EC2 instances.\n",
    "    elb_1 = ELB(\"lb1\")\n",
    "    ec2_list = [EC2(f\"worker_{i}\") for i in range(5)]\n",
    "    rds_1 = RDS(\"Things\")\n",
    "\n",
    "    # Configure the layout...\n",
    "    elb_1 >> ec2_list >> rds_1"
   ]
  },
  {
   "cell_type": "markdown",
   "metadata": {},
   "source": [
    "![](../images/arch_diagrams/2_tilted.png)"
   ]
  },
  {
   "cell_type": "markdown",
   "metadata": {},
   "source": [
    "We can do a few other cute things.  We can change the color of the edges and put a label on them fairly easily!"
   ]
  },
  {
   "cell_type": "code",
   "execution_count": 5,
   "metadata": {},
   "outputs": [],
   "source": [
    "filename_4 = \"../images/arch_diagrams/4\"\n",
    "with Diagram(\"Labeled Edges\", show=False, filename=filename_4):\n",
    "    ec2 = EC2(\"Compute\")\n",
    "    rds = RDS(\"Store\")\n",
    "\n",
    "    (ec2 >> Edge(label=\"Put results in\", color=\"red\") >> rds)"
   ]
  },
  {
   "cell_type": "markdown",
   "metadata": {},
   "source": [
    "![](../images/arch_diagrams/4.png)"
   ]
  },
  {
   "cell_type": "markdown",
   "metadata": {},
   "source": [
    "Additionally, we can group together services.  Let's see how!"
   ]
  },
  {
   "cell_type": "code",
   "execution_count": 6,
   "metadata": {},
   "outputs": [],
   "source": [
    "filename_5 = \"../images/arch_diagrams/5\"\n",
    "with Diagram(\"Containers\", show=False, filename=filename_5):\n",
    "    ec2 = EC2(\"Computer Thing\")\n",
    "\n",
    "    # Make a cluster (a grouped set of elements).\n",
    "\n",
    "    # NOTE: Define your grouped services in the cluster.\n",
    "    # For example, `RDS` and `Redshift` go under the following\n",
    "    # with statement, NOT in the above code by `EC2`.\n",
    "\n",
    "    with Cluster(\"DB Cluster\"):\n",
    "        rds = RDS(\"RDS Thing\")\n",
    "        rs = Redshift(\"Redshift Thing\")\n",
    "        db_cluster = [rds, rs]\n",
    "\n",
    "    db_cluster >> ec2\n"
   ]
  },
  {
   "cell_type": "markdown",
   "metadata": {},
   "source": [
    "![](../images/arch_diagrams/5.png)"
   ]
  },
  {
   "cell_type": "markdown",
   "metadata": {},
   "source": [
    "You can also nest clusters and make some pretty diagrams!  Check out the [docs](https://diagrams.mingrammer.com/docs/getting-started/installation) for more stuff that you can do with this package!"
   ]
  }
 ],
 "metadata": {
  "interpreter": {
   "hash": "409c0ef82ba8b7e64c8e82f82fa10040b189117e3f7cf50921b9ec62b5d5a915"
  },
  "kernelspec": {
   "display_name": "Python 3.9.5 64-bit ('blog-Mz1OaUtd-py3.9': poetry)",
   "language": "python",
   "name": "python3"
  },
  "language_info": {
   "codemirror_mode": {
    "name": "ipython",
    "version": 3
   },
   "file_extension": ".py",
   "mimetype": "text/x-python",
   "name": "python",
   "nbconvert_exporter": "python",
   "pygments_lexer": "ipython3",
   "version": "3.9.5"
  },
  "orig_nbformat": 4
 },
 "nbformat": 4,
 "nbformat_minor": 2
}
