{
 "cells": [
  {
   "cell_type": "raw",
   "metadata": {},
   "source": [
    "---\n",
    "title:  \"Linting Tidbit: Pylint and logging-format-interpolation\"\n",
    "date:   2022-03-28\n",
    "\n",
    "classes: wide\n",
    "\n",
    "header:\n",
    "  overlay_filter: rgba(0, 146, 202, 0.8)\n",
    "  overlay_image: /assets/images/title_logging_format_interpolation.jpg\n",
    "  caption: \"Photo Credit: [**Aapo Haapanen**](https://commons.wikimedia.org/wiki/File:Logs.jpg#file)\"\n",
    "---"
   ]
  },
  {
   "cell_type": "markdown",
   "metadata": {},
   "source": [
    "## Introduction\n",
    "\n",
    "While refactoring some code at work, Pylint produced a warning I found strange:\n",
    "\n",
    "> Use lazy % formatting in logging functions [logging-fstring-interpolation]\n",
    "\n",
    "Three things: \n",
    "1. What is the issue?\n",
    "2. How serious is it?\n",
    "3. How do we fix it?\n",
    "\n",
    "## What is the issue?\n",
    "\n",
    "The issue is easy to reproduce, so let's do so below:"
   ]
  },
  {
   "cell_type": "code",
   "execution_count": 34,
   "metadata": {},
   "outputs": [
    {
     "name": "stderr",
     "output_type": "stream",
     "text": [
      "INFO:root:Howdy, James!\n"
     ]
    }
   ],
   "source": [
    "import logging\n",
    "\n",
    "logger = logging.getLogger()\n",
    "logger.setLevel(logging.INFO)\n",
    "\n",
    "my_name = \"James\"\n",
    "logging.info(f\"Howdy, {my_name}!\")"
   ]
  },
  {
   "cell_type": "markdown",
   "metadata": {},
   "source": [
    "Running this in a Python file with an IDE that has Pylint enabled will give the warning above.\n",
    "\n",
    "What's the deal? We haven't done anything usual. We're logging using an f-string, and that's [the preferred method of text-formatting](https://peps.python.org/pep-0498/), right?\n",
    "\n",
    "The rationale is written up [here](https://github.com/PyCQA/pylint/issues/2395) and a few other locations if you search for the warning.  The long and short of it is: evaluation of statements in messages is deferred until it needs to be done, and an f-string is _not_ deferred evaluation.  If you have an expensive thing that the log needs to compute, then that might give you a performance hit."
   ]
  },
  {
   "cell_type": "code",
   "execution_count": 41,
   "metadata": {},
   "outputs": [
    {
     "name": "stderr",
     "output_type": "stream",
     "text": [
      "INFO:root:\n",
      "INFO:root:\n"
     ]
    }
   ],
   "source": [
    "def make_expensive_call():\n",
    "    \"\"\"Make an \"expensive\" call.\"\"\"\n",
    "    return \"\".join(\"\" for _ in range(10_000_000)).strip()\n",
    "\n",
    "\n",
    "# f-string method.\n",
    "logging.info(f\"{make_expensive_call()}\")\n",
    "\n",
    "# The pylint preferred method.\n",
    "logging.info(\"%s\" % make_expensive_call())"
   ]
  },
  {
   "cell_type": "markdown",
   "metadata": {},
   "source": [
    "Note that this syntax is similar to the syntax used in SQLAlchemy, so it's not completely alien.  In addition to lazy evaluation, you also get some protection against injections in case, for whatever reason, you need to log out user input."
   ]
  },
  {
   "cell_type": "markdown",
   "metadata": {},
   "source": [
    "## How serious is it?\n",
    "\n",
    "Unless you're doing some heavy-duty logging or some other pathological things, probably not very serious.  Additionally, in the author's opinion, the Pylint preferred method feels awkward to write and read.  For example,"
   ]
  },
  {
   "cell_type": "code",
   "execution_count": 46,
   "metadata": {},
   "outputs": [
    {
     "name": "stderr",
     "output_type": "stream",
     "text": [
      "INFO:root:Hi, I'm James.  I'm 100 years old, and I'm a Computer.  My dog is named My Dog Friday\n",
      "INFO:root:Hi, I'm James.  I'm 100 years old, and I'm a Computer.  My dog is named My Dog Friday\n"
     ]
    }
   ],
   "source": [
    "my_name = \"James\"\n",
    "my_age = 100\n",
    "my_job = \"Computer\"\n",
    "my_dogs_name = \"My Dog Friday\"\n",
    "\n",
    "# Pylint Preferred method.\n",
    "logging.info(\n",
    "    \"Hi, I'm %s.  I'm %s years old, and I'm a %s.  My dog is named %s\"\n",
    "    % (my_name, my_age, my_job, my_dogs_name)\n",
    ")\n",
    "\n",
    "# f-string method.\n",
    "logging.info(\n",
    "    f\"Hi, I'm {my_name}.  I'm {my_age} years old, and I'm a {my_job}.  \"\n",
    "    f\"My dog is named {my_dogs_name}\"\n",
    ")"
   ]
  },
  {
   "cell_type": "markdown",
   "metadata": {},
   "source": [
    "Of course, this is a matter of opinion, and will depend on the type of logging one does.  Either way, it does not feel like Pylint should force you to do one or the other &mdash;\n",
    "\n",
    "Luckily, it does not."
   ]
  },
  {
   "cell_type": "markdown",
   "metadata": {},
   "source": [
    "## How do we fix it?\n",
    "\n",
    "You can do one of two things:\n",
    "- Write your logs as above in the Pylint Preferred way, with those %s things.\n",
    "- As of [Pylint 2.5](https://pylint.pycqa.org/en/latest/whatsnew/2.5.html?highlight=fstring) there is a method to disable this message.  \n",
    "\n",
    "For the latter, if you're using a ``pyproject.toml``, you can put the following configuration in the file to disable the warning:\n",
    "\n",
    "```raw\n",
    "[tool.pylint.LOGGING]\n",
    "disable=[\"logging-fstring-interpolation\"]\n",
    "```\n",
    "\n",
    "It is disabled similarly with other configs."
   ]
  },
  {
   "cell_type": "markdown",
   "metadata": {},
   "source": []
  }
 ],
 "metadata": {
  "interpreter": {
   "hash": "409c0ef82ba8b7e64c8e82f82fa10040b189117e3f7cf50921b9ec62b5d5a915"
  },
  "kernelspec": {
   "display_name": "Python 3.9.5 64-bit ('blog-Mz1OaUtd-py3.9': poetry)",
   "language": "python",
   "name": "python3"
  },
  "language_info": {
   "codemirror_mode": {
    "name": "ipython",
    "version": 3
   },
   "file_extension": ".py",
   "mimetype": "text/x-python",
   "name": "python",
   "nbconvert_exporter": "python",
   "pygments_lexer": "ipython3",
   "version": "3.10.6"
  },
  "orig_nbformat": 4
 },
 "nbformat": 4,
 "nbformat_minor": 2
}
