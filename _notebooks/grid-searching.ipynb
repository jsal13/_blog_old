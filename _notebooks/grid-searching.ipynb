{
 "cells": [
  {
   "cell_type": "markdown",
   "metadata": {},
   "source": [
    "## Introduction\n",
    "\n",
    "There are many different models to choose from in ``sklean`` to model your data with.  There are many parameters and hyper-parameters related to these models.  How can you find the best ones for your data?\n",
    "\n",
    "The short answer is: _you can't_.\n",
    "\n",
    "Nevertheless, we can try our best at getting something pretty good.  Below, let's import everything we need.  Don't worry if you don't know what all of this is yet!"
   ]
  },
  {
   "cell_type": "code",
   "execution_count": 97,
   "metadata": {},
   "outputs": [],
   "source": [
    "import altair as alt\n",
    "import numpy as np\n",
    "import pandas as pd\n",
    "from sklearn.datasets import load_digits, load_iris\n",
    "from sklearn.decomposition import PCA\n",
    "from sklearn.ensemble import RandomForestClassifier\n",
    "from sklearn.linear_model import LogisticRegression\n",
    "from sklearn.model_selection import GridSearchCV, train_test_split\n",
    "from sklearn.preprocessing import StandardScaler\n",
    "from sklearn.pipeline import Pipeline"
   ]
  },
  {
   "cell_type": "markdown",
   "metadata": {},
   "source": [
    "---\n",
    "## Grid Search\n",
    "\n",
    "If you were posed this question and you didn't know a whole lot about the ``sklearn`` universe, you might say something like this:\n",
    "\n",
    "\"For every (hyper)parameter, let's take a list of values to try and ``for``-loop over them all.\"\n",
    "\n",
    "That's pretty much hitting the nail on the head. Instead of doing ugly ``for``-loops some number of times (potentially indenting past what your monitor can show!), ``sklean`` has ``GridSearchCV``.  \n",
    "\n",
    "Let's give an example, then chat about it.  If you've not read about [Pipelines](https://scikit-learn.org/stable/modules/generated/sklearn.pipeline.Pipeline.html), check out [this post](/2021-01-08-sklearn-pipelines-how-to.html)."
   ]
  },
  {
   "cell_type": "code",
   "execution_count": 100,
   "metadata": {},
   "outputs": [
    {
     "data": {
      "text/plain": [
       "0.7416943521594684"
      ]
     },
     "execution_count": 100,
     "metadata": {},
     "output_type": "execute_result"
    }
   ],
   "source": [
    "# Sample data, the Sklearn Digits Dataset.\n",
    "df_features, df_targets = load_digits(return_X_y=True, as_frame=True)\n",
    "x_train, x_test, y_train, y_test = train_test_split(\n",
    "    df_features,\n",
    "    df_targets,\n",
    "    train_size=0.33,\n",
    "    random_state=1234\n",
    ")\n",
    "\n",
    "# Create our pipelines: Preprocess, Model.\n",
    "pipeline_preprocess = Pipeline([\n",
    "    (\"pca\", PCA(n_components=3))\n",
    "])\n",
    "\n",
    "pipeline_model = Pipeline([\n",
    "    (\"random_forest\", RandomForestClassifier(n_estimators=100))\n",
    "])\n",
    "\n",
    "# Hook up our piplines together and train.\n",
    "pipeline_full = Pipeline([\n",
    "    (\"preprocessing\", pipeline_preprocess),\n",
    "    (\"modeling\", pipeline_model)\n",
    "]) \n",
    "\n",
    "pipeline_full.fit(x_train, y_train)\n",
    "\n",
    "# Score our model.\n",
    "pipeline_full.score(x_test, y_test)\n"
   ]
  },
  {
   "cell_type": "markdown",
   "metadata": {},
   "source": [
    "As we can see, we've made pipelines for preprocessing, modeling, and then tying those together.  It might seem verbose, but it makes things much easier when attempting to extend one part of the model, or swap things out.\n",
    "\n",
    "While not a perfect model, it gets a respectable accuracy when running with the default parameters in ``PCA`` and ``RandomForestClassifier``.  Maybe tweaking these values would give a better result.  Suppose we try out something like, ``[1, 5, 10, 15, 20, 25, 30, 35]`` for the components in ``PCA``and ``[1, 10, 25, 50, 75, 100, 125]`` for ``n_estimators`` in the Random Forest &mdash; if you tried to do this yourself, you'd have to manually type in these values and run the model **56 times**.  That's much too much.  Instead, let's let grid-search do it for us.\n",
    "\n",
    "(Note that, in addition to grid-searching, ``GridSearchCV`` will work on cross-validation scoring, so we no longer need to split our data into a train-test set.  However, we will rename and use the test set as the validation set at the end to score our model.)\n",
    "\n"
   ]
  },
  {
   "cell_type": "code",
   "execution_count": 98,
   "metadata": {},
   "outputs": [
    {
     "data": {
      "text/plain": [
       "GridSearchCV(estimator=Pipeline(steps=[('preprocessing',\n",
       "                                        Pipeline(steps=[('pca',\n",
       "                                                         PCA(n_components=3))])),\n",
       "                                       ('modeling',\n",
       "                                        Pipeline(steps=[('random_forest',\n",
       "                                                         RandomForestClassifier())]))]),\n",
       "             param_grid={'modeling__random_forest__n_estimators': [1, 10, 25,\n",
       "                                                                   50, 75, 100,\n",
       "                                                                   125],\n",
       "                         'preprocessing__pca__n_components': [1, 5, 10, 15, 20,\n",
       "                                                              25, 30, 35]})"
      ]
     },
     "execution_count": 98,
     "metadata": {},
     "output_type": "execute_result"
    }
   ],
   "source": [
    "# Sample data, the Sklearn Digits Dataset.\n",
    "df_features, df_targets = load_digits(return_X_y=True, as_frame=True)\n",
    "x_train, x_validation, y_train, y_validation = train_test_split(\n",
    "    df_features,\n",
    "    df_targets,\n",
    "    train_size=0.33,\n",
    "    random_state=1234\n",
    ")\n",
    "\n",
    "# Create our pipelines: Preprocess, Model.\n",
    "pipeline_preprocess = Pipeline([\n",
    "    (\"pca\", PCA(n_components=3))\n",
    "])\n",
    "\n",
    "pipeline_model = Pipeline([\n",
    "    (\"random_forest\", RandomForestClassifier(n_estimators=100))\n",
    "])\n",
    "\n",
    "# Hook up our piplines together and train.\n",
    "pipeline_full = Pipeline([\n",
    "    (\"preprocessing\", pipeline_preprocess),\n",
    "    (\"modeling\", pipeline_model)\n",
    "]) \n",
    "\n",
    "# Parameters we're making a grid of.\n",
    "#\n",
    "# In our case, since `pipeline_full` is a pipeline of pipelines, we must\n",
    "# use (pipeline_name)__(estimator_name)__(param_name).\n",
    "# \n",
    "# For example, `n_estimators` is given by `modeling__random_forest__n_estimators`.\n",
    "# \n",
    "# If you're not sure what to use, you can always print ``pipeline_full.get_params()``.\n",
    "#\n",
    "# See: https://scikit-learn.org/stable/modules/compose.html#nested-parameters\n",
    "\n",
    "param_grid = {\n",
    "    \"modeling__random_forest__n_estimators\": [1, 10, 25, 50, 75, 100, 125],\n",
    "    \"preprocessing__pca__n_components\": [1, 5, 10, 15, 20, 25, 30, 35]\n",
    "}\n",
    "\n",
    "# NOTE: This takes about a minute.\n",
    "grid_search = GridSearchCV(pipeline_full, param_grid)\n",
    "grid_search.fit(x_train, y_train)\n",
    "\n"
   ]
  },
  {
   "cell_type": "code",
   "execution_count": 101,
   "metadata": {},
   "outputs": [
    {
     "name": "stdout",
     "output_type": "stream",
     "text": [
      "0.9476268412438625\n",
      "0.9696592561075063\n",
      "Pipeline(steps=[('preprocessing',\n",
      "                 Pipeline(steps=[('pca', PCA(n_components=35))])),\n",
      "                ('modeling',\n",
      "                 Pipeline(steps=[('random_forest',\n",
      "                                  RandomForestClassifier())]))])\n"
     ]
    }
   ],
   "source": [
    "print(grid_search.score(x_validation, y_validation))\n",
    "print(grid_search.best_score_)\n",
    "print(grid_search.best_estimator_)"
   ]
  },
  {
   "cell_type": "markdown",
   "metadata": {},
   "source": [
    "On the digits dataset, using more of the data via components and estimators gave us a better accuracy; this isn't always the case, and it's a good reason we grid-search in the first place.\n",
    "\n",
    "One thing you might have noticed: this took a while to run.  Modeling the digit dataset is typically do-able in a second or less, but this took around a minute!  This seems trivial until we think about training datasets much larger than the digit dataset.  That's a problem.  This can be resolved in a few ways:\n",
    "\n",
    "- Reduce your parameter space (using commonly accepted \"good\" parameters may work well!),\n",
    "- Use a smarter grid-search (there are several out there which are a bit more complicated and situational),\n",
    "- Try a bunch of different, spread-out parameters to try to hone in on areas which may be worth looking at,\n",
    "- Trying something like ``RandomizedSearchCV``\n",
    "\n",
    "There are many, many other potential solutions for the problem of \"too big of a grid\", but we will note one other thing here.  For parameters like regularization (which are commonly gridded), the workload can be reduced by computing the (regularization path)[https://scikit-learn.org/stable/modules/grid_search.html#grid-search-tips].\n",
    "\n",
    "It may also be worth checking out parallelization methods if you're going to be using larger grids on significant amounts of data."
   ]
  },
  {
   "cell_type": "markdown",
   "metadata": {},
   "source": [
    "---\n",
    "## What do we get from GridSearchCV?\n",
    "\n",
    "When we ran ``GridSearchCV`` above, we took the ``.best_estimator_`` and were done with it. Can we look a bit closer into the results?  Sure."
   ]
  },
  {
   "cell_type": "code",
   "execution_count": 102,
   "metadata": {},
   "outputs": [
    {
     "data": {
      "text/html": [
       "<div>\n",
       "<style scoped>\n",
       "    .dataframe tbody tr th:only-of-type {\n",
       "        vertical-align: middle;\n",
       "    }\n",
       "\n",
       "    .dataframe tbody tr th {\n",
       "        vertical-align: top;\n",
       "    }\n",
       "\n",
       "    .dataframe thead th {\n",
       "        text-align: right;\n",
       "    }\n",
       "</style>\n",
       "<table border=\"1\" class=\"dataframe\">\n",
       "  <thead>\n",
       "    <tr style=\"text-align: right;\">\n",
       "      <th></th>\n",
       "      <th>param_modeling__random_forest__n_estimators</th>\n",
       "      <th>param_preprocessing__pca__n_components</th>\n",
       "      <th>mean_test_score</th>\n",
       "    </tr>\n",
       "  </thead>\n",
       "  <tbody>\n",
       "    <tr>\n",
       "      <th>0</th>\n",
       "      <td>1</td>\n",
       "      <td>1</td>\n",
       "      <td>0.298451</td>\n",
       "    </tr>\n",
       "    <tr>\n",
       "      <th>1</th>\n",
       "      <td>1</td>\n",
       "      <td>5</td>\n",
       "      <td>0.774003</td>\n",
       "    </tr>\n",
       "    <tr>\n",
       "      <th>2</th>\n",
       "      <td>1</td>\n",
       "      <td>10</td>\n",
       "      <td>0.779952</td>\n",
       "    </tr>\n",
       "    <tr>\n",
       "      <th>3</th>\n",
       "      <td>1</td>\n",
       "      <td>15</td>\n",
       "      <td>0.743644</td>\n",
       "    </tr>\n",
       "    <tr>\n",
       "      <th>4</th>\n",
       "      <td>1</td>\n",
       "      <td>20</td>\n",
       "      <td>0.710804</td>\n",
       "    </tr>\n",
       "  </tbody>\n",
       "</table>\n",
       "</div>"
      ],
      "text/plain": [
       "  param_modeling__random_forest__n_estimators  \\\n",
       "0                                           1   \n",
       "1                                           1   \n",
       "2                                           1   \n",
       "3                                           1   \n",
       "4                                           1   \n",
       "\n",
       "  param_preprocessing__pca__n_components  mean_test_score  \n",
       "0                                      1         0.298451  \n",
       "1                                      5         0.774003  \n",
       "2                                     10         0.779952  \n",
       "3                                     15         0.743644  \n",
       "4                                     20         0.710804  "
      ]
     },
     "execution_count": 102,
     "metadata": {},
     "output_type": "execute_result"
    }
   ],
   "source": [
    "df_grid_search_results = pd.DataFrame(grid_search.cv_results_)\n",
    "df_grid_search_results = df_grid_search_results[[\n",
    "    \"param_modeling__random_forest__n_estimators\",\n",
    "    \"param_preprocessing__pca__n_components\",\n",
    "    \"mean_test_score\",\n",
    "]]\n",
    "df_grid_search_results.head(5)"
   ]
  },
  {
   "cell_type": "code",
   "execution_count": 103,
   "metadata": {},
   "outputs": [
    {
     "data": {
      "text/html": [
       "\n",
       "<div id=\"altair-viz-5c55731c8ea64eacb0ffe71f17e16420\"></div>\n",
       "<script type=\"text/javascript\">\n",
       "  var VEGA_DEBUG = (typeof VEGA_DEBUG == \"undefined\") ? {} : VEGA_DEBUG;\n",
       "  (function(spec, embedOpt){\n",
       "    let outputDiv = document.currentScript.previousElementSibling;\n",
       "    if (outputDiv.id !== \"altair-viz-5c55731c8ea64eacb0ffe71f17e16420\") {\n",
       "      outputDiv = document.getElementById(\"altair-viz-5c55731c8ea64eacb0ffe71f17e16420\");\n",
       "    }\n",
       "    const paths = {\n",
       "      \"vega\": \"https://cdn.jsdelivr.net/npm//vega@5?noext\",\n",
       "      \"vega-lib\": \"https://cdn.jsdelivr.net/npm//vega-lib?noext\",\n",
       "      \"vega-lite\": \"https://cdn.jsdelivr.net/npm//vega-lite@4.17.0?noext\",\n",
       "      \"vega-embed\": \"https://cdn.jsdelivr.net/npm//vega-embed@6?noext\",\n",
       "    };\n",
       "\n",
       "    function maybeLoadScript(lib, version) {\n",
       "      var key = `${lib.replace(\"-\", \"\")}_version`;\n",
       "      return (VEGA_DEBUG[key] == version) ?\n",
       "        Promise.resolve(paths[lib]) :\n",
       "        new Promise(function(resolve, reject) {\n",
       "          var s = document.createElement('script');\n",
       "          document.getElementsByTagName(\"head\")[0].appendChild(s);\n",
       "          s.async = true;\n",
       "          s.onload = () => {\n",
       "            VEGA_DEBUG[key] = version;\n",
       "            return resolve(paths[lib]);\n",
       "          };\n",
       "          s.onerror = () => reject(`Error loading script: ${paths[lib]}`);\n",
       "          s.src = paths[lib];\n",
       "        });\n",
       "    }\n",
       "\n",
       "    function showError(err) {\n",
       "      outputDiv.innerHTML = `<div class=\"error\" style=\"color:red;\">${err}</div>`;\n",
       "      throw err;\n",
       "    }\n",
       "\n",
       "    function displayChart(vegaEmbed) {\n",
       "      vegaEmbed(outputDiv, spec, embedOpt)\n",
       "        .catch(err => showError(`Javascript Error: ${err.message}<br>This usually means there's a typo in your chart specification. See the javascript console for the full traceback.`));\n",
       "    }\n",
       "\n",
       "    if(typeof define === \"function\" && define.amd) {\n",
       "      requirejs.config({paths});\n",
       "      require([\"vega-embed\"], displayChart, err => showError(`Error loading script: ${err.message}`));\n",
       "    } else {\n",
       "      maybeLoadScript(\"vega\", \"5\")\n",
       "        .then(() => maybeLoadScript(\"vega-lite\", \"4.17.0\"))\n",
       "        .then(() => maybeLoadScript(\"vega-embed\", \"6\"))\n",
       "        .catch(showError)\n",
       "        .then(() => displayChart(vegaEmbed));\n",
       "    }\n",
       "  })({\"config\": {\"view\": {\"continuousWidth\": 400, \"continuousHeight\": 300}, \"axis\": {\"grid\": false}}, \"data\": {\"name\": \"data-5f304604ed718d9e023652f934b7c47d\"}, \"mark\": \"circle\", \"encoding\": {\"color\": {\"field\": \"mean_test_score\", \"scale\": {\"scheme\": \"redblue\"}, \"type\": \"quantitative\"}, \"x\": {\"field\": \"param_modeling__random_forest__n_estimators\", \"type\": \"quantitative\"}, \"y\": {\"field\": \"param_preprocessing__pca__n_components\", \"type\": \"quantitative\"}}, \"selection\": {\"selector015\": {\"type\": \"interval\", \"bind\": \"scales\", \"encodings\": [\"x\", \"y\"]}}, \"$schema\": \"https://vega.github.io/schema/vega-lite/v4.17.0.json\", \"datasets\": {\"data-5f304604ed718d9e023652f934b7c47d\": [{\"param_modeling__random_forest__n_estimators\": 1, \"param_preprocessing__pca__n_components\": 1, \"mean_test_score\": 0.2984505194482857}, {\"param_modeling__random_forest__n_estimators\": 1, \"param_preprocessing__pca__n_components\": 5, \"mean_test_score\": 0.7740027656632273}, {\"param_modeling__random_forest__n_estimators\": 1, \"param_preprocessing__pca__n_components\": 10, \"mean_test_score\": 0.7799524873240435}, {\"param_modeling__random_forest__n_estimators\": 1, \"param_preprocessing__pca__n_components\": 15, \"mean_test_score\": 0.7436442931603021}, {\"param_modeling__random_forest__n_estimators\": 1, \"param_preprocessing__pca__n_components\": 20, \"mean_test_score\": 0.7108038151969648}, {\"param_modeling__random_forest__n_estimators\": 1, \"param_preprocessing__pca__n_components\": 25, \"mean_test_score\": 0.7049072793674431}, {\"param_modeling__random_forest__n_estimators\": 1, \"param_preprocessing__pca__n_components\": 30, \"mean_test_score\": 0.7132964578236358}, {\"param_modeling__random_forest__n_estimators\": 1, \"param_preprocessing__pca__n_components\": 35, \"mean_test_score\": 0.6315462894018367}, {\"param_modeling__random_forest__n_estimators\": 10, \"param_preprocessing__pca__n_components\": 1, \"mean_test_score\": 0.30519802857851996}, {\"param_modeling__random_forest__n_estimators\": 10, \"param_preprocessing__pca__n_components\": 5, \"mean_test_score\": 0.8904088217565507}, {\"param_modeling__random_forest__n_estimators\": 10, \"param_preprocessing__pca__n_components\": 10, \"mean_test_score\": 0.9106407119809949}, {\"param_modeling__random_forest__n_estimators\": 10, \"param_preprocessing__pca__n_components\": 15, \"mean_test_score\": 0.9232918483849236}, {\"param_modeling__random_forest__n_estimators\": 10, \"param_preprocessing__pca__n_components\": 20, \"mean_test_score\": 0.9232705740524059}, {\"param_modeling__random_forest__n_estimators\": 10, \"param_preprocessing__pca__n_components\": 25, \"mean_test_score\": 0.9199198666808496}, {\"param_modeling__random_forest__n_estimators\": 10, \"param_preprocessing__pca__n_components\": 30, \"mean_test_score\": 0.9207424742048719}, {\"param_modeling__random_forest__n_estimators\": 10, \"param_preprocessing__pca__n_components\": 35, \"mean_test_score\": 0.9114775023933624}, {\"param_modeling__random_forest__n_estimators\": 25, \"param_preprocessing__pca__n_components\": 1, \"mean_test_score\": 0.3051838456901748}, {\"param_modeling__random_forest__n_estimators\": 25, \"param_preprocessing__pca__n_components\": 5, \"mean_test_score\": 0.8979931212991525}, {\"param_modeling__random_forest__n_estimators\": 25, \"param_preprocessing__pca__n_components\": 10, \"mean_test_score\": 0.9393114207708401}, {\"param_modeling__random_forest__n_estimators\": 25, \"param_preprocessing__pca__n_components\": 15, \"mean_test_score\": 0.9502641562954295}, {\"param_modeling__random_forest__n_estimators\": 25, \"param_preprocessing__pca__n_components\": 20, \"mean_test_score\": 0.951944828564337}, {\"param_modeling__random_forest__n_estimators\": 25, \"param_preprocessing__pca__n_components\": 25, \"mean_test_score\": 0.9443711661879941}, {\"param_modeling__random_forest__n_estimators\": 25, \"param_preprocessing__pca__n_components\": 30, \"mean_test_score\": 0.9485763925823493}, {\"param_modeling__random_forest__n_estimators\": 25, \"param_preprocessing__pca__n_components\": 35, \"mean_test_score\": 0.940165939793639}, {\"param_modeling__random_forest__n_estimators\": 50, \"param_preprocessing__pca__n_components\": 1, \"mean_test_score\": 0.3043399638336347}, {\"param_modeling__random_forest__n_estimators\": 50, \"param_preprocessing__pca__n_components\": 5, \"mean_test_score\": 0.8996773392901464}, {\"param_modeling__random_forest__n_estimators\": 50, \"param_preprocessing__pca__n_components\": 10, \"mean_test_score\": 0.9334077934971458}, {\"param_modeling__random_forest__n_estimators\": 50, \"param_preprocessing__pca__n_components\": 15, \"mean_test_score\": 0.9528028933092225}, {\"param_modeling__random_forest__n_estimators\": 50, \"param_preprocessing__pca__n_components\": 20, \"mean_test_score\": 0.9553345388788426}, {\"param_modeling__random_forest__n_estimators\": 50, \"param_preprocessing__pca__n_components\": 25, \"mean_test_score\": 0.9528064390313087}, {\"param_modeling__random_forest__n_estimators\": 50, \"param_preprocessing__pca__n_components\": 30, \"mean_test_score\": 0.9586994291387441}, {\"param_modeling__random_forest__n_estimators\": 50, \"param_preprocessing__pca__n_components\": 35, \"mean_test_score\": 0.9595326738290254}, {\"param_modeling__random_forest__n_estimators\": 75, \"param_preprocessing__pca__n_components\": 1, \"mean_test_score\": 0.30434350955572104}, {\"param_modeling__random_forest__n_estimators\": 75, \"param_preprocessing__pca__n_components\": 5, \"mean_test_score\": 0.9089635854341737}, {\"param_modeling__random_forest__n_estimators\": 75, \"param_preprocessing__pca__n_components\": 10, \"mean_test_score\": 0.9376201113356736}, {\"param_modeling__random_forest__n_estimators\": 75, \"param_preprocessing__pca__n_components\": 15, \"mean_test_score\": 0.9553416303230152}, {\"param_modeling__random_forest__n_estimators\": 75, \"param_preprocessing__pca__n_components\": 20, \"mean_test_score\": 0.9528064390313087}, {\"param_modeling__random_forest__n_estimators\": 75, \"param_preprocessing__pca__n_components\": 25, \"mean_test_score\": 0.9629082012551857}, {\"param_modeling__random_forest__n_estimators\": 75, \"param_preprocessing__pca__n_components\": 30, \"mean_test_score\": 0.9646030564124384}, {\"param_modeling__random_forest__n_estimators\": 75, \"param_preprocessing__pca__n_components\": 35, \"mean_test_score\": 0.9603836471297381}, {\"param_modeling__random_forest__n_estimators\": 100, \"param_preprocessing__pca__n_components\": 1, \"mean_test_score\": 0.3051838456901748}, {\"param_modeling__random_forest__n_estimators\": 100, \"param_preprocessing__pca__n_components\": 5, \"mean_test_score\": 0.9055774208417546}, {\"param_modeling__random_forest__n_estimators\": 100, \"param_preprocessing__pca__n_components\": 10, \"mean_test_score\": 0.9443640747438217}, {\"param_modeling__random_forest__n_estimators\": 100, \"param_preprocessing__pca__n_components\": 15, \"mean_test_score\": 0.9570293940360954}, {\"param_modeling__random_forest__n_estimators\": 100, \"param_preprocessing__pca__n_components\": 20, \"mean_test_score\": 0.957866184448463}, {\"param_modeling__random_forest__n_estimators\": 100, \"param_preprocessing__pca__n_components\": 25, \"mean_test_score\": 0.9595397652731978}, {\"param_modeling__random_forest__n_estimators\": 100, \"param_preprocessing__pca__n_components\": 30, \"mean_test_score\": 0.9645959649682657}, {\"param_modeling__random_forest__n_estimators\": 100, \"param_preprocessing__pca__n_components\": 35, \"mean_test_score\": 0.9696592561075063}, {\"param_modeling__random_forest__n_estimators\": 125, \"param_preprocessing__pca__n_components\": 1, \"mean_test_score\": 0.3060241818246286}, {\"param_modeling__random_forest__n_estimators\": 125, \"param_preprocessing__pca__n_components\": 5, \"mean_test_score\": 0.8971598766088714}, {\"param_modeling__random_forest__n_estimators\": 125, \"param_preprocessing__pca__n_components\": 10, \"mean_test_score\": 0.9418466120625466}, {\"param_modeling__random_forest__n_estimators\": 125, \"param_preprocessing__pca__n_components\": 15, \"mean_test_score\": 0.9544906570223025}, {\"param_modeling__random_forest__n_estimators\": 125, \"param_preprocessing__pca__n_components\": 20, \"mean_test_score\": 0.9595468567173706}, {\"param_modeling__random_forest__n_estimators\": 125, \"param_preprocessing__pca__n_components\": 25, \"mean_test_score\": 0.9629117469772719}, {\"param_modeling__random_forest__n_estimators\": 125, \"param_preprocessing__pca__n_components\": 30, \"mean_test_score\": 0.9671276105378862}, {\"param_modeling__random_forest__n_estimators\": 125, \"param_preprocessing__pca__n_components\": 35, \"mean_test_score\": 0.9595468567173704}]}}, {\"mode\": \"vega-lite\"});\n",
       "</script>"
      ],
      "text/plain": [
       "alt.Chart(...)"
      ]
     },
     "execution_count": 103,
     "metadata": {},
     "output_type": "execute_result"
    }
   ],
   "source": [
    "# Plot these values.\n",
    "chart = (\n",
    "    alt.Chart(df_grid_search_results)\n",
    "        .encode(\n",
    "            x=\"param_modeling__random_forest__n_estimators:Q\",\n",
    "            y=\"param_preprocessing__pca__n_components\",\n",
    "            color=alt.Color(\"mean_test_score\", scale=alt.Scale(scheme='redblue'))\n",
    "        )\n",
    "        .configure_axis(grid=False)\n",
    "        .mark_circle()\n",
    "        \n",
    ")\n",
    "chart.interactive()"
   ]
  },
  {
   "cell_type": "markdown",
   "metadata": {},
   "source": [
    "Seems like a lot of the grid was pretty close, in terms of scoring.  This is reasonable, given how small and simple the data is."
   ]
  },
  {
   "cell_type": "markdown",
   "metadata": {},
   "source": [
    "---\n",
    "## One More Example\n",
    "\n",
    "Let's do one last easy example to solidify this.  We'll use the iris dataset, but we'll have a ridiculously small training size.  Let's see how well we can do."
   ]
  },
  {
   "cell_type": "code",
   "execution_count": 106,
   "metadata": {},
   "outputs": [
    {
     "data": {
      "text/plain": [
       "GridSearchCV(estimator=Pipeline(steps=[('preprocessing',\n",
       "                                        Pipeline(steps=[('scaler',\n",
       "                                                         StandardScaler()),\n",
       "                                                        ('pca',\n",
       "                                                         PCA(n_components=3))])),\n",
       "                                       ('modeling',\n",
       "                                        Pipeline(steps=[('logistic_regression',\n",
       "                                                         LogisticRegression(max_iter=1000))]))]),\n",
       "             param_grid={'modeling__logistic_regression__C': array([1.00000000e-04, 4.64158883e-04, 2.15443469e-03, 1.00000000e-02,\n",
       "       4.64158883e-02, 2.15443469e-01, 1.00000000e+00, 4.64158883e+00,\n",
       "       2.15443469e+01, 1.00000000e+02]),\n",
       "                         'preprocessing__pca__n_components': [1, 2, 3, 4]})"
      ]
     },
     "execution_count": 106,
     "metadata": {},
     "output_type": "execute_result"
    }
   ],
   "source": [
    "df_features, df_targets = load_iris(return_X_y=True, as_frame=True)\n",
    "x_train, x_validation, y_train, y_validation = train_test_split(\n",
    "    df_features,\n",
    "    df_targets,\n",
    "    train_size=0.15,\n",
    "    random_state=1234\n",
    ")\n",
    "\n",
    "pipeline_preprocess = Pipeline([\n",
    "    (\"scaler\", StandardScaler()),\n",
    "    (\"pca\", PCA(n_components=3))\n",
    "])\n",
    "\n",
    "# NOTE: Here, we could have used LogisticRegressionCV to grid values for C.\n",
    "# Since we're focusing on GridSearchCV, I decided to use the standard LogReg.\n",
    "pipeline_model = Pipeline([\n",
    "    (\"logistic_regression\", LogisticRegression(C=1.0, max_iter=1_000))\n",
    "])\n",
    "\n",
    "# Hook up our piplines together and train.\n",
    "pipeline_full = Pipeline([\n",
    "    (\"preprocessing\", pipeline_preprocess),\n",
    "    (\"modeling\", pipeline_model)\n",
    "]) \n",
    "\n",
    "param_grid = {\n",
    "    \"modeling__logistic_regression__C\": np.logspace(-4, 2, 10),\n",
    "    \"preprocessing__pca__n_components\": [1, 2, 3, 4]\n",
    "}\n",
    "\n",
    "# NOTE: Takes a few seconds.\n",
    "grid_search = GridSearchCV(pipeline_full, param_grid)\n",
    "grid_search.fit(x_train, y_train)"
   ]
  },
  {
   "cell_type": "code",
   "execution_count": 107,
   "metadata": {},
   "outputs": [
    {
     "data": {
      "text/html": [
       "\n",
       "<div id=\"altair-viz-390d5918e4514cf3a30c8aadf6f1f2a2\"></div>\n",
       "<script type=\"text/javascript\">\n",
       "  var VEGA_DEBUG = (typeof VEGA_DEBUG == \"undefined\") ? {} : VEGA_DEBUG;\n",
       "  (function(spec, embedOpt){\n",
       "    let outputDiv = document.currentScript.previousElementSibling;\n",
       "    if (outputDiv.id !== \"altair-viz-390d5918e4514cf3a30c8aadf6f1f2a2\") {\n",
       "      outputDiv = document.getElementById(\"altair-viz-390d5918e4514cf3a30c8aadf6f1f2a2\");\n",
       "    }\n",
       "    const paths = {\n",
       "      \"vega\": \"https://cdn.jsdelivr.net/npm//vega@5?noext\",\n",
       "      \"vega-lib\": \"https://cdn.jsdelivr.net/npm//vega-lib?noext\",\n",
       "      \"vega-lite\": \"https://cdn.jsdelivr.net/npm//vega-lite@4.17.0?noext\",\n",
       "      \"vega-embed\": \"https://cdn.jsdelivr.net/npm//vega-embed@6?noext\",\n",
       "    };\n",
       "\n",
       "    function maybeLoadScript(lib, version) {\n",
       "      var key = `${lib.replace(\"-\", \"\")}_version`;\n",
       "      return (VEGA_DEBUG[key] == version) ?\n",
       "        Promise.resolve(paths[lib]) :\n",
       "        new Promise(function(resolve, reject) {\n",
       "          var s = document.createElement('script');\n",
       "          document.getElementsByTagName(\"head\")[0].appendChild(s);\n",
       "          s.async = true;\n",
       "          s.onload = () => {\n",
       "            VEGA_DEBUG[key] = version;\n",
       "            return resolve(paths[lib]);\n",
       "          };\n",
       "          s.onerror = () => reject(`Error loading script: ${paths[lib]}`);\n",
       "          s.src = paths[lib];\n",
       "        });\n",
       "    }\n",
       "\n",
       "    function showError(err) {\n",
       "      outputDiv.innerHTML = `<div class=\"error\" style=\"color:red;\">${err}</div>`;\n",
       "      throw err;\n",
       "    }\n",
       "\n",
       "    function displayChart(vegaEmbed) {\n",
       "      vegaEmbed(outputDiv, spec, embedOpt)\n",
       "        .catch(err => showError(`Javascript Error: ${err.message}<br>This usually means there's a typo in your chart specification. See the javascript console for the full traceback.`));\n",
       "    }\n",
       "\n",
       "    if(typeof define === \"function\" && define.amd) {\n",
       "      requirejs.config({paths});\n",
       "      require([\"vega-embed\"], displayChart, err => showError(`Error loading script: ${err.message}`));\n",
       "    } else {\n",
       "      maybeLoadScript(\"vega\", \"5\")\n",
       "        .then(() => maybeLoadScript(\"vega-lite\", \"4.17.0\"))\n",
       "        .then(() => maybeLoadScript(\"vega-embed\", \"6\"))\n",
       "        .catch(showError)\n",
       "        .then(() => displayChart(vegaEmbed));\n",
       "    }\n",
       "  })({\"config\": {\"view\": {\"continuousWidth\": 400, \"continuousHeight\": 300}, \"axis\": {\"grid\": false}}, \"data\": {\"name\": \"data-49d735abdf212efc3b4bcafcc3fafd56\"}, \"mark\": \"circle\", \"encoding\": {\"color\": {\"field\": \"mean_test_score\", \"scale\": {\"scheme\": \"redblue\"}, \"type\": \"quantitative\"}, \"x\": {\"field\": \"param_modeling__logistic_regression__C\", \"type\": \"quantitative\"}, \"y\": {\"field\": \"param_preprocessing__pca__n_components\", \"type\": \"quantitative\"}}, \"selection\": {\"selector017\": {\"type\": \"interval\", \"bind\": \"scales\", \"encodings\": [\"x\", \"y\"]}}, \"$schema\": \"https://vega.github.io/schema/vega-lite/v4.17.0.json\", \"datasets\": {\"data-49d735abdf212efc3b4bcafcc3fafd56\": [{\"param_modeling__logistic_regression__C\": 0.0001, \"param_preprocessing__pca__n_components\": 1, \"mean_test_score\": 0.41}, {\"param_modeling__logistic_regression__C\": 0.0001, \"param_preprocessing__pca__n_components\": 2, \"mean_test_score\": 0.41}, {\"param_modeling__logistic_regression__C\": 0.0001, \"param_preprocessing__pca__n_components\": 3, \"mean_test_score\": 0.41}, {\"param_modeling__logistic_regression__C\": 0.0001, \"param_preprocessing__pca__n_components\": 4, \"mean_test_score\": 0.41}, {\"param_modeling__logistic_regression__C\": 0.00046415888336127773, \"param_preprocessing__pca__n_components\": 1, \"mean_test_score\": 0.41}, {\"param_modeling__logistic_regression__C\": 0.00046415888336127773, \"param_preprocessing__pca__n_components\": 2, \"mean_test_score\": 0.41}, {\"param_modeling__logistic_regression__C\": 0.00046415888336127773, \"param_preprocessing__pca__n_components\": 3, \"mean_test_score\": 0.41}, {\"param_modeling__logistic_regression__C\": 0.00046415888336127773, \"param_preprocessing__pca__n_components\": 4, \"mean_test_score\": 0.41}, {\"param_modeling__logistic_regression__C\": 0.002154434690031882, \"param_preprocessing__pca__n_components\": 1, \"mean_test_score\": 0.41}, {\"param_modeling__logistic_regression__C\": 0.002154434690031882, \"param_preprocessing__pca__n_components\": 2, \"mean_test_score\": 0.41}, {\"param_modeling__logistic_regression__C\": 0.002154434690031882, \"param_preprocessing__pca__n_components\": 3, \"mean_test_score\": 0.41}, {\"param_modeling__logistic_regression__C\": 0.002154434690031882, \"param_preprocessing__pca__n_components\": 4, \"mean_test_score\": 0.41}, {\"param_modeling__logistic_regression__C\": 0.01, \"param_preprocessing__pca__n_components\": 1, \"mean_test_score\": 0.72}, {\"param_modeling__logistic_regression__C\": 0.01, \"param_preprocessing__pca__n_components\": 2, \"mean_test_score\": 0.72}, {\"param_modeling__logistic_regression__C\": 0.01, \"param_preprocessing__pca__n_components\": 3, \"mean_test_score\": 0.72}, {\"param_modeling__logistic_regression__C\": 0.01, \"param_preprocessing__pca__n_components\": 4, \"mean_test_score\": 0.72}, {\"param_modeling__logistic_regression__C\": 0.046415888336127774, \"param_preprocessing__pca__n_components\": 1, \"mean_test_score\": 0.72}, {\"param_modeling__logistic_regression__C\": 0.046415888336127774, \"param_preprocessing__pca__n_components\": 2, \"mean_test_score\": 0.77}, {\"param_modeling__logistic_regression__C\": 0.046415888336127774, \"param_preprocessing__pca__n_components\": 3, \"mean_test_score\": 0.77}, {\"param_modeling__logistic_regression__C\": 0.046415888336127774, \"param_preprocessing__pca__n_components\": 4, \"mean_test_score\": 0.77}, {\"param_modeling__logistic_regression__C\": 0.21544346900318823, \"param_preprocessing__pca__n_components\": 1, \"mean_test_score\": 0.72}, {\"param_modeling__logistic_regression__C\": 0.21544346900318823, \"param_preprocessing__pca__n_components\": 2, \"mean_test_score\": 0.8699999999999999}, {\"param_modeling__logistic_regression__C\": 0.21544346900318823, \"param_preprocessing__pca__n_components\": 3, \"mean_test_score\": 0.8699999999999999}, {\"param_modeling__logistic_regression__C\": 0.21544346900318823, \"param_preprocessing__pca__n_components\": 4, \"mean_test_score\": 0.8699999999999999}, {\"param_modeling__logistic_regression__C\": 1.0, \"param_preprocessing__pca__n_components\": 1, \"mean_test_score\": 0.9099999999999999}, {\"param_modeling__logistic_regression__C\": 1.0, \"param_preprocessing__pca__n_components\": 2, \"mean_test_score\": 0.9099999999999999}, {\"param_modeling__logistic_regression__C\": 1.0, \"param_preprocessing__pca__n_components\": 3, \"mean_test_score\": 0.95}, {\"param_modeling__logistic_regression__C\": 1.0, \"param_preprocessing__pca__n_components\": 4, \"mean_test_score\": 0.95}, {\"param_modeling__logistic_regression__C\": 4.641588833612772, \"param_preprocessing__pca__n_components\": 1, \"mean_test_score\": 0.8699999999999999}, {\"param_modeling__logistic_regression__C\": 4.641588833612772, \"param_preprocessing__pca__n_components\": 2, \"mean_test_score\": 0.9099999999999999}, {\"param_modeling__logistic_regression__C\": 4.641588833612772, \"param_preprocessing__pca__n_components\": 3, \"mean_test_score\": 0.95}, {\"param_modeling__logistic_regression__C\": 4.641588833612772, \"param_preprocessing__pca__n_components\": 4, \"mean_test_score\": 0.95}, {\"param_modeling__logistic_regression__C\": 21.54434690031882, \"param_preprocessing__pca__n_components\": 1, \"mean_test_score\": 0.9099999999999999}, {\"param_modeling__logistic_regression__C\": 21.54434690031882, \"param_preprocessing__pca__n_components\": 2, \"mean_test_score\": 0.9099999999999999}, {\"param_modeling__logistic_regression__C\": 21.54434690031882, \"param_preprocessing__pca__n_components\": 3, \"mean_test_score\": 1.0}, {\"param_modeling__logistic_regression__C\": 21.54434690031882, \"param_preprocessing__pca__n_components\": 4, \"mean_test_score\": 1.0}, {\"param_modeling__logistic_regression__C\": 100.0, \"param_preprocessing__pca__n_components\": 1, \"mean_test_score\": 0.9099999999999999}, {\"param_modeling__logistic_regression__C\": 100.0, \"param_preprocessing__pca__n_components\": 2, \"mean_test_score\": 0.8699999999999999}, {\"param_modeling__logistic_regression__C\": 100.0, \"param_preprocessing__pca__n_components\": 3, \"mean_test_score\": 1.0}, {\"param_modeling__logistic_regression__C\": 100.0, \"param_preprocessing__pca__n_components\": 4, \"mean_test_score\": 1.0}]}}, {\"mode\": \"vega-lite\"});\n",
       "</script>"
      ],
      "text/plain": [
       "alt.Chart(...)"
      ]
     },
     "execution_count": 107,
     "metadata": {},
     "output_type": "execute_result"
    }
   ],
   "source": [
    "df_grid_search_results = pd.DataFrame(grid_search.cv_results_)\n",
    "df_grid_search_results = df_grid_search_results[[\n",
    "    \"param_modeling__logistic_regression__C\",\n",
    "    \"param_preprocessing__pca__n_components\",\n",
    "    \"mean_test_score\",\n",
    "]]\n",
    "\n",
    "chart = (\n",
    "    alt.Chart(df_grid_search_results)\n",
    "        .encode(\n",
    "            x=\"param_modeling__logistic_regression__C:Q\",\n",
    "            y=\"param_preprocessing__pca__n_components\",\n",
    "            color=alt.Color(\"mean_test_score\", scale=alt.Scale(scheme='redblue'))\n",
    "        )\n",
    "        .configure_axis(grid=False)\n",
    "        .mark_circle()\n",
    "        \n",
    ")\n",
    "chart.interactive()"
   ]
  },
  {
   "cell_type": "code",
   "execution_count": 108,
   "metadata": {},
   "outputs": [
    {
     "name": "stdout",
     "output_type": "stream",
     "text": [
      "{'modeling__logistic_regression__C': 21.54434690031882, 'preprocessing__pca__n_components': 3}\n",
      "1.0\n"
     ]
    }
   ],
   "source": [
    "print(grid_search.best_params_)\n",
    "print(grid_search.best_score_)"
   ]
  },
  {
   "cell_type": "markdown",
   "metadata": {},
   "source": [
    "Interesting!  Of course, this isn't meant to show the best models for these smaller datasets, but rather how to use the tools for your larger, more complex data.\n",
    "\n",
    "_Happy gridding!_  ``:']``"
   ]
  },
  {
   "cell_type": "markdown",
   "metadata": {},
   "source": []
  }
 ],
 "metadata": {
  "interpreter": {
   "hash": "409c0ef82ba8b7e64c8e82f82fa10040b189117e3f7cf50921b9ec62b5d5a915"
  },
  "kernelspec": {
   "display_name": "Python 3.9.5 64-bit ('blog-Mz1OaUtd-py3.9': poetry)",
   "language": "python",
   "name": "python3"
  },
  "language_info": {
   "codemirror_mode": {
    "name": "ipython",
    "version": 3
   },
   "file_extension": ".py",
   "mimetype": "text/x-python",
   "name": "python",
   "nbconvert_exporter": "python",
   "pygments_lexer": "ipython3",
   "version": "3.9.5"
  },
  "orig_nbformat": 4
 },
 "nbformat": 4,
 "nbformat_minor": 2
}
