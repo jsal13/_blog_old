{
 "cells": [
  {
   "cell_type": "raw",
   "metadata": {},
   "source": [
    "---\n",
    "title:  \"Merging Dictionaries in Python 3.9\"\n",
    "date:   2022-05-24\n",
    "\n",
    "description: Quick and easy method to merge dictionaries in Python 3.9+.\n",
    "categories: python linting\n",
    "\n",
    "excerpt: \"\"\n",
    "\n",
    "classes: wide\n",
    "\n",
    "header:\n",
    "  overlay_filter: rgba(0, 146, 202, 0.8)\n",
    "  overlay_image: /assets/images/title-merge-dictionaries.jpg\n",
    "  caption: \"Photo Credit: [**Wiki**](https://en.wikipedia.org/wiki/File:Escribano.jpg)\"\n",
    "---"
   ]
  },
  {
   "cell_type": "markdown",
   "metadata": {},
   "source": [
    "# Introduction\n",
    "\n",
    "Here's a problem that comes up a bunch in Python.  Suppose we have two dictionaries:\n",
    "\n",
    "```python\n",
    "dict_1 = {\"jimmy\": 1, \"jane\": 4}\n",
    "dict_2 = {\"billy\": 23, \"beth\": 10}\n",
    "```\n",
    "How do we make this into a single dictionary?\n",
    "\n",
    "_Note here that there are considerations: What if the same key is in both dictionaries?  What if they have different types for keys?  Etc, etc.  Having said that, we're going to assume that everything is nice and that we know that everything will be okay if we merge these._"
   ]
  },
  {
   "cell_type": "code",
   "execution_count": 3,
   "metadata": {},
   "outputs": [
    {
     "data": {
      "text/plain": [
       "{'jimmy': 1, 'jane': 4, 'billy': 23, 'beth': 10}"
      ]
     },
     "execution_count": 3,
     "metadata": {},
     "output_type": "execute_result"
    }
   ],
   "source": [
    "# The old way.\n",
    "dict_1 = {\"jimmy\": 1, \"jane\": 4}\n",
    "dict_2 = {\"billy\": 23, \"beth\": 10}\n",
    "\n",
    "dict_merged = {**dict_1, **dict_2}\n",
    "dict_merged"
   ]
  },
  {
   "cell_type": "code",
   "execution_count": 4,
   "metadata": {},
   "outputs": [
    {
     "data": {
      "text/plain": [
       "{'jimmy': 1, 'jane': 4, 'billy': 23, 'beth': 10}"
      ]
     },
     "execution_count": 4,
     "metadata": {},
     "output_type": "execute_result"
    }
   ],
   "source": [
    "# The new way, Python 3.9+.\n",
    "dict_1 = {\"jimmy\": 1, \"jane\": 4}\n",
    "dict_2 = {\"billy\": 23, \"beth\": 10}\n",
    "\n",
    "dict_merged = dict_1 | dict_2\n",
    "dict_merged"
   ]
  },
  {
   "cell_type": "raw",
   "metadata": {},
   "source": [
    "This feels kind of strange (\"Why the 'or' symbol?\") unless we think of these more as sets of keys and their associated values: in this case, we are using a legit set union (an \"or\").  \n",
    "\n",
    "For more information on this change, see the corresponding [PEP-0584](https://peps.python.org/pep-0584/)."
   ]
  }
 ],
 "metadata": {
  "interpreter": {
   "hash": "409c0ef82ba8b7e64c8e82f82fa10040b189117e3f7cf50921b9ec62b5d5a915"
  },
  "kernelspec": {
   "display_name": "Python 3.9.7 ('blog-Mz1OaUtd-py3.9')",
   "language": "python",
   "name": "python3"
  },
  "language_info": {
   "codemirror_mode": {
    "name": "ipython",
    "version": 3
   },
   "file_extension": ".py",
   "mimetype": "text/x-python",
   "name": "python",
   "nbconvert_exporter": "python",
   "pygments_lexer": "ipython3",
   "version": "3.9.7"
  },
  "orig_nbformat": 4
 },
 "nbformat": 4,
 "nbformat_minor": 2
}
